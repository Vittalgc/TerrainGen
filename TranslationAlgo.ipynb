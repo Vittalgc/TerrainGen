{
 "cells": [
  {
   "cell_type": "code",
   "execution_count": null,
   "id": "dcbb8d2a",
   "metadata": {},
   "outputs": [],
   "source": []
  },
  {
   "cell_type": "code",
   "execution_count": 1,
   "id": "f69b91e6-e1ca-4409-9636-05b85bdc552f",
   "metadata": {
    "tags": []
   },
   "outputs": [],
   "source": [
    "from PIL import Image\n",
    "import numpy as np\n",
    "import random\n",
    "from sklearn.preprocessing import MinMaxScaler\n",
    "import cv2"
   ]
  },
  {
   "cell_type": "code",
   "execution_count": 23,
   "id": "c95ca423-6bee-4163-9d53-5841828e6547",
   "metadata": {
    "tags": []
   },
   "outputs": [],
   "source": [
    "def hm_to_IMR(heightmap_path, num_levels=5):\n",
    "    # Read the 16-bit PNG heightmap using OpenCV\n",
    "    heightmap = cv2.imread(heightmap_path, cv2.IMREAD_UNCHANGED)\n",
    "    \n",
    "    # Normalize the values to the range [0, 1]\n",
    "    heightmap_array = cv2.normalize(heightmap, None, alpha=0, beta=1, norm_type=cv2.NORM_MINMAX, dtype=cv2.CV_32F)\n",
    "    \n",
    "\n",
    "    # Determine grid size to match heightmap dimensions\n",
    "    height, width = heightmap_array.shape\n",
    "    grid_width, grid_height = width // 4, height // 4  # Assuming a 128x128 resolution\n",
    "\n",
    "    imr_values = [0, 0.25, 0.5, 0.75, 1]\n",
    "\n",
    "    IMR = np.zeros((grid_height, grid_width))\n",
    "\n",
    "    # Calculate average brightness in each grid area\n",
    "    for i in range(grid_height):\n",
    "        for j in range(grid_width):\n",
    "            area = heightmap_array[i * 16: (i + 1) * 16, j * 16: (j + 1) * 16]\n",
    "            average_brightness = np.mean(area)\n",
    "            \n",
    "            # Find the two closest values in IMR and assign randomly to one of them\n",
    "            closest_values = sorted(imr_values, key=lambda x: abs(average_brightness - x))[:2]\n",
    "            assigned_value = random.choice(closest_values)\n",
    "            \n",
    "            # Assign the assigned_value to the IMR grid\n",
    "            IMR[i][j] = assigned_value\n",
    "    heightmap = (heightmap.astype('float32') - 32767.5) / 32767.5\n",
    "    \n",
    "    return IMR, heightmap"
   ]
  },
  {
   "cell_type": "code",
   "execution_count": 24,
   "id": "fe3b55b8-53cd-428d-8d3f-be99ff8806bb",
   "metadata": {
    "tags": []
   },
   "outputs": [],
   "source": [
    "path = './Tiles/Downscaled/tileEflipped_64000_20480.png'\n",
    "imr, img = hm_to_IMR(path, 5)"
   ]
  },
  {
   "cell_type": "code",
   "execution_count": 25,
   "id": "f176ab63-c5f9-4fc4-9446-1247af73f4af",
   "metadata": {},
   "outputs": [],
   "source": [
    "IMR_reshaped = imr.reshape(32, 32, 1)"
   ]
  },
  {
   "cell_type": "code",
   "execution_count": 27,
   "id": "1146d251-950d-4925-b354-fc4536416b8e",
   "metadata": {
    "tags": []
   },
   "outputs": [
    {
     "name": "stdout",
     "output_type": "stream",
     "text": [
      "-0.3180438\n"
     ]
    }
   ],
   "source": [
    "print(img.max())"
   ]
  },
  {
   "cell_type": "markdown",
   "id": "3274978c-eb2e-4a07-8778-3653e0e44449",
   "metadata": {
    "jp-MarkdownHeadingCollapsed": true,
    "tags": []
   },
   "source": [
    "## Hex to IMR"
   ]
  },
  {
   "cell_type": "code",
   "execution_count": 54,
   "id": "32d0ceb9-aee4-49c7-a28d-60c639d5bffb",
   "metadata": {
    "tags": []
   },
   "outputs": [],
   "source": [
    "def hexmap_to_IMR(hexmap, num_levels=5, height=128, width=128):\n",
    "    imr_values = [i / (num_levels - 1) for i in range(num_levels)]\n",
    "    num_hexes = len(hexmap)  # Assuming hexmap is a list of hexes or cells\n",
    "\n",
    "    IMR = np.zeros(num_hexes)\n",
    "\n",
    "    for i, hex in enumerate(hexmap):\n",
    "        # Extract attributes or values from the hex and its neighbors\n",
    "        attributes = get_hex_attributes(hex, hexmap)\n",
    "\n",
    "        # Calculate average attribute within the hex and its neighbors\n",
    "        average_attribute = np.mean(attributes)\n",
    "\n",
    "        # Find two closest values in IMR and assign randomly to one of them\n",
    "        closest_values = sorted(imr_values, key=lambda x: abs(average_attribute - x))[:2]\n",
    "        assigned_value = random.choice(closest_values)\n",
    "\n",
    "        # Assign the assigned value to the IMR grid representing the hex\n",
    "        IMR[i] = assigned_value\n",
    "\n",
    "    # Reshape the IMR to match the height and width of the original heightmap\n",
    "    IMR = IMR.reshape(height, width)\n",
    "\n",
    "    return IMR\n"
   ]
  },
  {
   "cell_type": "markdown",
   "id": "369f8e81",
   "metadata": {},
   "source": [
    "### Other approach to IMR"
   ]
  },
  {
   "cell_type": "code",
   "execution_count": null,
   "id": "41b8d2bf",
   "metadata": {},
   "outputs": [],
   "source": [
    "\n",
    "# def HM2IMR(img_path):\n",
    "\n",
    "#     img = cv2.imread(img_path, cv2.IMREAD_UNCHANGED)\n",
    "    \n",
    "#     # Resize the image to 32x32\n",
    "#     img_resized = cv2.resize(img, (32, 32))\n",
    "    \n",
    "#     # Normalize the image to [0, 1]\n",
    "#     img_normalized = img_resized.astype(np.float32) / 65535.0\n",
    "    \n",
    "#     # Define the possible IMR values\n",
    "#     imr_values = np.array([0.0, 0.25, 0.5, 0.75, 1.0])\n",
    "    \n",
    "#     # Initialize an empty array for the IMR\n",
    "#     imr = np.zeros_like(img_normalized)\n",
    "    \n",
    "#     # For each cell in the normalized image...\n",
    "#     for i in range(img_normalized.shape[0]):\n",
    "#         for j in range(img_normalized.shape[1]):\n",
    "#             # Compute the average pixel value within the cell\n",
    "#             avg_value = np.mean(img_normalized[i, j])\n",
    "            \n",
    "#             # Find the closest IMR value to the average pixel value\n",
    "#             closest_imr_value = imr_values[np.argmin(np.abs(imr_values - avg_value))]\n",
    "            \n",
    "#             # Assign the closest IMR value to the cell\n",
    "#             imr[i, j] = closest_imr_value\n",
    "    \n",
    "#     return imr"
   ]
  },
  {
   "cell_type": "code",
   "execution_count": null,
   "id": "edc3a3d2",
   "metadata": {},
   "outputs": [],
   "source": [
    "# path = './Tiles/Downscaled/tileEflipped_64000_20480.png'\n",
    "# imr = hm_to_IMR(path)"
   ]
  },
  {
   "cell_type": "markdown",
   "id": "e156924d",
   "metadata": {},
   "source": [
    "### Other approach"
   ]
  },
  {
   "cell_type": "code",
   "execution_count": 8,
   "id": "74722b6b",
   "metadata": {},
   "outputs": [],
   "source": [
    "def HM2IMR(heightmap_path, num_levels=5):\n",
    "    # Read the 16-bit PNG heightmap using OpenCV\n",
    "    heightmap = cv2.imread(heightmap_path, cv2.IMREAD_UNCHANGED)\n",
    "\n",
    "    # Normalize the values to the range [0, 1]\n",
    "    heightmap_array = cv2.normalize(heightmap, None, alpha=0, beta=1, norm_type=cv2.NORM_MINMAX, dtype=cv2.CV_32F)\n",
    "\n",
    "    # Determine grid size to match heightmap dimensions\n",
    "    height, width = heightmap_array.shape\n",
    "    grid_width, grid_height = width // 4, height // 4\n",
    "\n",
    "    imr_values = [i / (num_levels - 1) for i in range(num_levels)]\n",
    "\n",
    "    IMR = np.zeros((grid_height, grid_width))\n",
    "\n",
    "    # Calculate average brightness in each grid area\n",
    "    for i in range(grid_height):\n",
    "        for j in range(grid_width):\n",
    "            start_i = i * 4\n",
    "            end_i = min((i + 1) * 4, height)  # Ensure end_i does not exceed image height\n",
    "            start_j = j * 4\n",
    "            end_j = min((j + 1) * 4, width)  # Ensure end_j does not exceed image width\n",
    "            \n",
    "            area = heightmap_array[start_i:end_i, start_j:end_j]\n",
    "            \n",
    "            if area.size > 0:  # Check for empty slices\n",
    "                average_brightness = np.mean(area)\n",
    "                \n",
    "                # Find the two closest values in IMR and assign randomly to one of them\n",
    "                closest_values = sorted(imr_values, key=lambda x: abs(average_brightness - x))[:2]\n",
    "                assigned_value = random.choice(closest_values)\n",
    "                \n",
    "                # Assign the assigned_value to the IMR grid\n",
    "                IMR[i][j] = assigned_value\n",
    "\n",
    "    return IMR, heightmap"
   ]
  },
  {
   "cell_type": "code",
   "execution_count": 13,
   "id": "6af28ef4",
   "metadata": {},
   "outputs": [],
   "source": [
    "path = './Tiles/Downscaled/tileEflipped_64000_20480.png'\n",
    "imr, img = HM2IMR(path, 5)"
   ]
  },
  {
   "cell_type": "code",
   "execution_count": 14,
   "id": "b5f285b3",
   "metadata": {},
   "outputs": [
    {
     "name": "stdout",
     "output_type": "stream",
     "text": [
      "(32, 32)\n",
      "[[0.5  0.5  0.5  ... 0.5  0.5  0.25]\n",
      " [0.25 0.5  0.25 ... 0.25 0.25 0.25]\n",
      " [0.5  0.5  0.25 ... 0.5  0.5  0.25]\n",
      " ...\n",
      " [0.   0.   0.25 ... 0.25 0.25 0.  ]\n",
      " [0.25 0.   0.25 ... 0.   0.25 0.  ]\n",
      " [0.25 0.25 0.25 ... 0.25 0.25 0.  ]]\n"
     ]
    }
   ],
   "source": [
    "print(imr.shape)\n",
    "print(imr)"
   ]
  },
  {
   "cell_type": "markdown",
   "id": "cbfe08fe-bd23-4817-8a9c-13d725e3ac83",
   "metadata": {},
   "source": [
    "## Testing"
   ]
  },
  {
   "cell_type": "code",
   "execution_count": 3,
   "id": "f937b5e4-6e24-454e-8828-95fb591f8edc",
   "metadata": {
    "tags": []
   },
   "outputs": [],
   "source": [
    "import os\n",
    "import numpy as np\n",
    "import cv2\n",
    "import random"
   ]
  },
  {
   "cell_type": "code",
   "execution_count": 14,
   "id": "fc5034c8-db65-4795-bb5d-1a810cd85761",
   "metadata": {
    "tags": []
   },
   "outputs": [],
   "source": [
    "def cust_data_generator(dir_path, batch_size):\n",
    "    # Get the list of all files in the directory\n",
    "    file_list = os.listdir(dir_path)\n",
    "    num_files = len(file_list)\n",
    "\n",
    "    while True:\n",
    "        # shuffle\n",
    "        np.random.shuffle(file_list)\n",
    "\n",
    "        for i in range(0, num_files, batch_size):\n",
    "            # get a list of filenames of a batch\n",
    "            batch_files = file_list[i : i + batch_size]\n",
    "\n",
    "            batch_images = []\n",
    "            batch_IMRS = []\n",
    "\n",
    "            for file in batch_files:\n",
    "                file_path = os.path.join(dir_path, file)\n",
    "\n",
    "                # read the image and generate IMR\n",
    "                img = cv2.imread(file_path, cv2.IMREAD_GRAYSCALE)\n",
    "                arr = cv2.normalize(img, None, alpha=0, beta=1, norm_type=cv2.NORM_MINMAX, dtype=cv2.CV_32F)\n",
    "\n",
    "                height, width = arr.shape\n",
    "                # Assuming a resolution of 128 x 128\n",
    "                grid_width, grid_height = width // 4, height // 4\n",
    "\n",
    "                imr_values = [0, 0.25, 0.5, 0.75, 1]\n",
    "\n",
    "                IMR = np.zeros((grid_height, grid_width))\n",
    "\n",
    "                for i in range(grid_height):\n",
    "                    for j in range(grid_width):\n",
    "                        start_i = i * 4\n",
    "                        end_i = min((i + 1) * 4, height)\n",
    "                        start_j = j * 4\n",
    "                        end_j = min((j + 1) * 4, width)\n",
    "\n",
    "                        area = arr[start_i:end_i, start_j:end_j]\n",
    "\n",
    "                        if area.size > 0:\n",
    "                            avg_brightness = np.mean(area)\n",
    "\n",
    "                            closest_values = sorted(imr_values, key=lambda x: abs(avg_brightness - x))[:2]\n",
    "                            assigned_value = random.choice(closest_values)\n",
    "                            IMR[i][j] = assigned_value\n",
    "                \n",
    "                IMR = IMR.reshape(32, 32, 1)\n",
    "                img = img.\n",
    "                batch_images.append(img)\n",
    "                batch_IMRS.append(IMR)\n",
    "                print(IMR.shape)\n",
    "                print(img.shape)\n",
    "                "
   ]
  },
  {
   "cell_type": "code",
   "execution_count": null,
   "id": "990cd20f-ccff-4742-859b-3add6b78f5bf",
   "metadata": {
    "tags": []
   },
   "outputs": [],
   "source": [
    "cust_data_generator('./Tiles/Train', 64)"
   ]
  },
  {
   "cell_type": "code",
   "execution_count": null,
   "id": "9909f24b-b8c1-4985-8097-10f0c2daad19",
   "metadata": {},
   "outputs": [],
   "source": []
  },
  {
   "cell_type": "code",
   "execution_count": 2,
   "id": "2359825f-91b3-45db-944b-615b1703e4c2",
   "metadata": {},
   "outputs": [],
   "source": [
    "def sketch2IMR(dir_path):\n",
    "    \n",
    "    # read the image and generate IMR\n",
    "    img = cv2.imread(dir_path, cv2.IMREAD_GRAYSCALE)\n",
    "    arr = cv2.normalize(img, None, alpha=0, beta=1, norm_type=cv2.NORM_MINMAX, dtype=cv2.CV_32F)\n",
    "\n",
    "    height, width = arr.shape\n",
    "    # Assuming a resolution of 128 x 128\n",
    "    grid_width, grid_height = width // 4, height // 4\n",
    "\n",
    "    imr_values = [0, 0.25, 0.5, 0.75, 1]\n",
    "\n",
    "    IMR = np.zeros((grid_height, grid_width))\n",
    "\n",
    "    for i in range(grid_height):\n",
    "        for j in range(grid_width):\n",
    "            start_i = i * 4\n",
    "            end_i = min((i + 1) * 4, height)\n",
    "            start_j = j * 4\n",
    "            end_j = min((j + 1) * 4, width)\n",
    "            area = arr[start_i:end_i, start_j:end_j]\n",
    "\n",
    "            if area.size > 0:\n",
    "                avg_brightness = np.mean(area)\n",
    "                closest_values = sorted(imr_values, key=lambda x: abs(avg_brightness - x))[:2]\n",
    "                assigned_value = random.choice(closest_values)\n",
    "                IMR[i][j] = assigned_value\n",
    "                \n",
    "    IMR_reshaped = IMR.reshape(32, 32, 1)\n",
    "        \n",
    "    return IMR_reshaped"
   ]
  }
 ],
 "metadata": {
  "kernelspec": {
   "display_name": "Python 3 (ipykernel)",
   "language": "python",
   "name": "python3"
  },
  "language_info": {
   "codemirror_mode": {
    "name": "ipython",
    "version": 3
   },
   "file_extension": ".py",
   "mimetype": "text/x-python",
   "name": "python",
   "nbconvert_exporter": "python",
   "pygments_lexer": "ipython3",
   "version": "3.8.10"
  }
 },
 "nbformat": 4,
 "nbformat_minor": 5
}
