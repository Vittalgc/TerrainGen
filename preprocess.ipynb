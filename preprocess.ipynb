{
 "cells": [
  {
   "cell_type": "code",
   "execution_count": 1,
   "metadata": {
    "tags": []
   },
   "outputs": [],
   "source": [
    "import os\n",
    "import pyvips\n",
    "import cv2\n",
    "import subprocess\n",
    "import numpy as np\n",
    "from osgeo import gdal\n",
    "from PIL import Image"
   ]
  },
  {
   "cell_type": "code",
   "execution_count": 4,
   "metadata": {
    "tags": []
   },
   "outputs": [],
   "source": [
    "Image.MAX_IMAGE_PIXELS = 9966240000"
   ]
  },
  {
   "cell_type": "markdown",
   "metadata": {
    "jp-MarkdownHeadingCollapsed": true,
    "tags": []
   },
   "source": [
    "#### (older) Breaking the PNG into smaller tiles using PIL"
   ]
  },
  {
   "cell_type": "code",
   "execution_count": null,
   "metadata": {},
   "outputs": [],
   "source": [
    "# def create_tile(filename, dir_in, dir_out, d, rotation):\n",
    "#     name, ext = os.path.splitext(filename)\n",
    "#     img = Image.open(os.path.join(dir_in, filename))\n",
    "#     w, h = img.size\n",
    "\n",
    "#     grid = product(range(0, h-h%d, d), range(0, w-w%d, d))\n",
    "#     for i, j in grid:\n",
    "#         box = (j, i, j+d, i+d)\n",
    "#         out = os.path.join(dir_out, f'tile{rotation}_{i}_{j}{ext}')\n",
    "#         img.crop(box).save(out)"
   ]
  },
  {
   "cell_type": "code",
   "execution_count": null,
   "metadata": {},
   "outputs": [],
   "source": [
    "# filename = 'SRTM_Scaled_UInt16_Europe.png'\n",
    "# dir_in = './SRTM_Europe/'\n",
    "# dir_out = './Tiles/Europe/'\n",
    "# d = 1024\n",
    "# rotation = 0\n",
    "# create_tile(filename, dir_in, dir_out, d, rotation)"
   ]
  },
  {
   "cell_type": "markdown",
   "metadata": {
    "jp-MarkdownHeadingCollapsed": true,
    "tags": []
   },
   "source": [
    "#### Fill transparent areas in raster"
   ]
  },
  {
   "cell_type": "code",
   "execution_count": null,
   "metadata": {
    "tags": []
   },
   "outputs": [],
   "source": [
    "# def fillWhite(filename, dir_in, dir_out):\n",
    "#     image = Image.open(os.path.join(dir_in, filename))\n",
    "#     image.convert(\"RGBA\")\n",
    "    \n",
    "#     canvas = Image.new('RGBA', image.size, (65535, 65535, 65535, 65535))\n",
    "#     canvas.paste(image, mask=image)\n",
    "#     canvas.convert(\"L\")\n",
    "#     canvas.save(f'{os.path.join(dir_out, name)}_filled.png')"
   ]
  },
  {
   "cell_type": "markdown",
   "metadata": {
    "jp-MarkdownHeadingCollapsed": true,
    "tags": []
   },
   "source": [
    "#### converting the colourspace in pyvips"
   ]
  },
  {
   "cell_type": "code",
   "execution_count": null,
   "metadata": {},
   "outputs": [],
   "source": [
    "# npimg = np.ndarray(buffer = img.write_to_memory(),\n",
    "    #                   dtype = np.uint16,\n",
    "    #                   shape = [img.height, img.width, 1])\n",
    "    \n",
    "    \n",
    "    # img2 = pyvips.Image.new_from_array(npimg)\n",
    "    \n",
    "    # img2 = img.bandsplit()[1]\n",
    "    \n",
    "    # print(img2.bands)\n",
    "    # print(img2.format)\n",
    "    # print(img2.width, img2.height)\n",
    "\n",
    "    # img2 = img.colourspace('b-w')\n",
    "    \n",
    "    # mem_img = img.write_to_memory()\n",
    "    # imgnp = np.frombuffer(mem_img, dtype=np.uint16).reshape(img.width, img.height, 1)\n",
    "    "
   ]
  },
  {
   "cell_type": "markdown",
   "metadata": {
    "tags": []
   },
   "source": [
    "## Rotate the raster using pyvips"
   ]
  },
  {
   "cell_type": "code",
   "execution_count": 3,
   "metadata": {
    "tags": []
   },
   "outputs": [],
   "source": [
    "def rotateRaster(filename, dir_in, dir_out, rotation):\n",
    "    \n",
    "    name, ext = os.path.splitext(filename)\n",
    "    \n",
    "    # Open the image using Pyvips\n",
    "    img = pyvips.Image.pngload(os.path.join(dir_in, filename))\n",
    "    print(f'Rotating \"{filename}\" by {rotation} degrees...')\n",
    "    # Rotate the image without specifying interpolation (defaults to nearest neighbor)\n",
    "    \n",
    "    if rotation == 90:\n",
    "        rot = img.rot90()\n",
    "    else:\n",
    "        rot = img.rotate(rotation)\n",
    "    \n",
    "    op_filename = f'{name} {rotation}.png'\n",
    "    op_file = f'{os.path.join(dir_out, op_filename)}'\n",
    "    \n",
    "    rot.pngsave(op_file)\n",
    "    \n",
    "    img= None\n",
    "    rot = None\n",
    "    print(f'\"{filename}\" was successfully rotated by {rotation} degrees.')\n",
    "    \n",
    "    return op_filename\n"
   ]
  },
  {
   "cell_type": "markdown",
   "metadata": {
    "tags": []
   },
   "source": [
    "pngsave does work, but adds an alpha layer which needs to be removed using gdal_translate"
   ]
  },
  {
   "cell_type": "markdown",
   "metadata": {
    "tags": []
   },
   "source": [
    "## Flip the raster Horizontally"
   ]
  },
  {
   "cell_type": "code",
   "execution_count": 4,
   "metadata": {
    "tags": []
   },
   "outputs": [],
   "source": [
    "def flipRaster(filename, dir_in, dir_out):\n",
    "    \n",
    "    name, ext = os.path.splitext(filename)\n",
    "    \n",
    "    # Open the image using Pyvips\n",
    "    img = pyvips.Image.pngload(os.path.join(dir_in, filename))\n",
    "    print(f'Flipping \"{filename}\"...')\n",
    "\n",
    "    rot = img.fliphor()\n",
    "    \n",
    "    op_filename = f'{name} flipped.png'\n",
    "    op_file = f'{os.path.join(dir_out, op_filename)}'\n",
    "    \n",
    "    rot.pngsave(op_file)\n",
    "    \n",
    "    img = None\n",
    "    rot = None\n",
    "    print(f'\"{filename}\" was successfully horizontally flipped.')\n",
    "    \n",
    "    return op_filename"
   ]
  },
  {
   "cell_type": "markdown",
   "metadata": {
    "tags": []
   },
   "source": [
    "## Extract only the Gray Band"
   ]
  },
  {
   "cell_type": "code",
   "execution_count": 5,
   "metadata": {
    "tags": []
   },
   "outputs": [],
   "source": [
    "def extractBand(filename, dir_in, dir_out_rot, rotation):\n",
    "    name, ext = os.path.splitext(filename)\n",
    "    name, ang = name.split(' ')\n",
    "    \n",
    "    ip_path = f'{os.path.join(dir_in, filename)}'\n",
    "    op_filename = f'{name}_{rotation}.png'\n",
    "    op_path = f'{os.path.join(dir_in, op_filename)}'\n",
    "        \n",
    "    ds = gdal.Open(ip_path)\n",
    "\n",
    "    subprocess.run(['gdal_translate', '-b', '1', ip_path, op_path])\n",
    "    \n",
    "    ds = None\n",
    "    print(f'Alpha band was removed from \"{filename}\".')\n",
    "    return op_filename\n",
    "    "
   ]
  },
  {
   "cell_type": "markdown",
   "metadata": {
    "tags": []
   },
   "source": [
    "## Breaking the PNG into smaller tiles using PIL"
   ]
  },
  {
   "cell_type": "code",
   "execution_count": 6,
   "metadata": {},
   "outputs": [],
   "source": [
    "def createTiles(filename, dir_in, dir_out, rotation, region):\n",
    "    print(f'Creating Tiles from \"{filename}\"...')\n",
    "    name, ext = os.path.splitext(filename)\n",
    "    tname = f'tile{region}{rotation}'\n",
    "    rotated_image = Image.open(os.path.join(dir_in, filename))\n",
    "    \n",
    "    tile_size = 512\n",
    "    window_size = 256\n",
    "    f_count = 0\n",
    "    # Assign pixel_count and threshold here since it'll be the same for all tiles\n",
    "    pixel_count = 262144 # tile.width * tile.height, for tiles of 1024x1024: 1024*1024 = 1048576\n",
    "    threshold = 249037 # int(0.95 * pixel_count), for tiles of 1024x1024: 0.95 * 1048576 = 996147\n",
    "    \n",
    "    for y in range(0, rotated_image.height - tile_size + 1, window_size):\n",
    "        for x in range(0, rotated_image.width - tile_size + 1, window_size):\n",
    "            \n",
    "            tile = rotated_image.crop((x, y, x + tile_size, y + tile_size))\n",
    "            \n",
    "            count = 0\n",
    "            \n",
    "            if max(tile.getextrema()) == 255:\n",
    "                continue\n",
    "            \n",
    "            pixels = tile.load()\n",
    "            for i in range(tile.size[0]):  # Loop through each pixel in the tile\n",
    "                for j in range(tile.size[1]):\n",
    "                    if pixels[i, j] <= 25:\n",
    "                        count += 1\n",
    "            pixels = None\n",
    "            \n",
    "            if count < threshold:\n",
    "                f_count += 1\n",
    "                tile.save(f'{os.path.join(dir_out, tname)}_{x}_{y}.png')\n",
    "            tile = None\n",
    "    \n",
    "    rotated_image = None            \n",
    "    print(f'{f_count} Tiles were generated from {filename}.')\n",
    "            "
   ]
  },
  {
   "cell_type": "markdown",
   "metadata": {
    "jp-MarkdownHeadingCollapsed": true,
    "tags": []
   },
   "source": [
    "#### Function to check im.getdata() results"
   ]
  },
  {
   "cell_type": "code",
   "execution_count": 7,
   "metadata": {
    "tags": []
   },
   "outputs": [],
   "source": [
    "# def check(filename, dir_in):\n",
    "#     img = Image.open(os.path.join(dir_in, filename))\n",
    "#     tile = img.crop((0, 0, 0 + 1024, 0 + 1024))\n",
    "    \n",
    "#     pixels_count = tile.width*tile.height\n",
    "#     threshold = int(0.95 * pixels_count)\n",
    "    \n",
    "#     pixels = tile.getdata()\n",
    "    \n",
    "#     print(\"Threshold = \", threshold)\n",
    "#     print(\"len(tile.getdata()) = \", len(pixels))\n",
    "#     print(\"1024 * 1024 = \", pixels_count)\n",
    "\n",
    "# check(\"SRTM_Europe_UInt16_Scaled.png\", './SRTM_Europe/scaled/')"
   ]
  },
  {
   "cell_type": "markdown",
   "metadata": {
    "tags": []
   },
   "source": [
    "## Caller Function"
   ]
  },
  {
   "cell_type": "code",
   "execution_count": 7,
   "metadata": {
    "tags": []
   },
   "outputs": [],
   "source": [
    "def caller():   \n",
    "    \n",
    "    f_name = {\n",
    "        'E8' : 'SRTM_UInt16_to_Byte_Europe.png',\n",
    "        'I8' : 'SRTM_UInt16_to_Byte_India.png'\n",
    "    }\n",
    "    \n",
    "    ip_path = {\n",
    "        'E8' : '/base/Projects/TerrainGen/SRTM_Europe/non-scaled/',\n",
    "        'I8' : '/base/Projects/TerrainGen/SRTM_India/non-scaled/'\n",
    "    }\n",
    "    \n",
    "    op_path = {\n",
    "        'E8' : '/base/Projects/TerrainGen/Tiles/generated_tiles/',\n",
    "        'I8' : '/base/Projects/TerrainGen/Tiles/generated_tiles/'\n",
    "    }\n",
    "    \n",
    "    regions = [\"E8\"] # I8\n",
    "    for region in regions:\n",
    "    \n",
    "        angles = [33] # 0, 'f'\n",
    "        for deg in angles:\n",
    "            \n",
    "            filename = f_name[region]\n",
    "            dir_in = ip_path[region]\n",
    "            dir_out_rot = ip_path[region]\n",
    "            dir_out = op_path[region]\n",
    "            \n",
    "            # functions calls\n",
    "            \n",
    "            if deg == 0:\n",
    "                # since the tiles will be generated from the input raster itself, extractBand method need not be called.\n",
    "                singleband_fname = filename\n",
    "            \n",
    "            elif deg == 'f':\n",
    "                fname = flipRaster(filename, dir_in, dir_out_rot)\n",
    "                singleband_fname = extractBand(fname, dir_in, dir_out_rot, deg)\n",
    "            \n",
    "            else:\n",
    "                fname = rotateRaster(filename, dir_in, dir_out_rot, deg)\n",
    "                singleband_fname = extractBand(fname, dir_in, dir_out_rot, deg)\n",
    "            \n",
    "            createTiles(singleband_fname, dir_in, dir_out, deg, region)"
   ]
  },
  {
   "cell_type": "code",
   "execution_count": 8,
   "metadata": {
    "tags": []
   },
   "outputs": [
    {
     "name": "stdout",
     "output_type": "stream",
     "text": [
      "Rotating \"SRTM_UInt16_to_Byte_Europe.png\" by 33 degrees...\n",
      "\"SRTM_UInt16_to_Byte_Europe.png\" was successfully rotated by 33 degrees.\n",
      "Input file size is 76072, 63370\n",
      "0...10...20...30...40...50...60...70...80...90...100 - done.\n",
      "Alpha band was removed from \"SRTM_UInt16_to_Byte_Europe 33.png\".\n",
      "Creating Tiles from \"SRTM_UInt16_to_Byte_Europe_33.png\"...\n",
      "5714 Tiles were generated from SRTM_UInt16_to_Byte_Europe_33.png.\n"
     ]
    }
   ],
   "source": [
    "caller()"
   ]
  },
  {
   "cell_type": "markdown",
   "metadata": {
    "tags": []
   },
   "source": [
    "## Count files"
   ]
  },
  {
   "cell_type": "code",
   "execution_count": 9,
   "metadata": {},
   "outputs": [
    {
     "name": "stdout",
     "output_type": "stream",
     "text": [
      "File count in generated_tiles:  5696\n"
     ]
    }
   ],
   "source": [
    "count = 0\n",
    "out_path = \"./Tiles/Train/\"\n",
    "\n",
    "# Iterate directory\n",
    "for path in os.listdir(out_path):\n",
    "    # check if current path is a file\n",
    "    if os.path.isfile(os.path.join(out_path, path)):\n",
    "        count += 1\n",
    "\n",
    "print('File count in generated_tiles: ', count)"
   ]
  },
  {
   "cell_type": "markdown",
   "metadata": {},
   "source": [
    "## Downscale the dataset to 128x128"
   ]
  },
  {
   "cell_type": "code",
   "execution_count": 7,
   "metadata": {
    "tags": []
   },
   "outputs": [],
   "source": [
    "def downscale(dir_in, dir_out, no_of_tiles):\n",
    "    files = os.listdir(dir_in)\n",
    "    print(f'downscaling {no_of_tiles} images...')\n",
    "    count = 0\n",
    "    for file_name in files:\n",
    "        if count == no_of_tiles:\n",
    "            break\n",
    "        \n",
    "        if file_name.endswith(\".png\"):\n",
    "            \n",
    "            input_path = os.path.join(dir_in, file_name)\n",
    "            output_path = os.path.join(dir_out, file_name)\n",
    "\n",
    "            # Open the image\n",
    "            image = Image.open(input_path)\n",
    "\n",
    "            # Resize the image using nearest neighbor interpolation\n",
    "            resized_image = image.resize((128, 128), resample=Image.NEAREST)\n",
    "\n",
    "            # Save the image in the output directory\n",
    "            resized_image.save(output_path)\n",
    "            count += 1"
   ]
  },
  {
   "cell_type": "code",
   "execution_count": 8,
   "metadata": {
    "tags": []
   },
   "outputs": [
    {
     "name": "stdout",
     "output_type": "stream",
     "text": [
      "downscaling 5696 images...\n"
     ]
    }
   ],
   "source": [
    "in_path = './Tiles/generated_tiles/'\n",
    "out_path = './Tiles/Train/'\n",
    "\n",
    "downscale(in_path, out_path, 5696)"
   ]
  }
 ],
 "metadata": {
  "kernelspec": {
   "display_name": "Python 3 (ipykernel)",
   "language": "python",
   "name": "python3"
  },
  "language_info": {
   "codemirror_mode": {
    "name": "ipython",
    "version": 3
   },
   "file_extension": ".py",
   "mimetype": "text/x-python",
   "name": "python",
   "nbconvert_exporter": "python",
   "pygments_lexer": "ipython3",
   "version": "3.10.12"
  }
 },
 "nbformat": 4,
 "nbformat_minor": 4
}
